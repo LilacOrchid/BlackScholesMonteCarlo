{
 "cells": [
  {
   "cell_type": "markdown",
   "id": "4853f546",
   "metadata": {},
   "source": [
    "## Black-Scholes Model"
   ]
  },
  {
   "cell_type": "markdown",
   "id": "f090c667",
   "metadata": {},
   "source": [
    "The Black-Scholes equation is used to model the price evolution of European call and put options and derives from the no-arbitrage condition in a continous time,continous state market\n",
    "\n",
    "- European Call Option are a financial derivative that gives the buyer the right but not the pobnlligation to buy a stock or other asset at a specified price (strike price) on a specific date(expiration date)\n",
    "\n",
    "- European option are different to American option because they can only be exercised on the expiration date compared to American ones that can be exercised any time before expiration\n",
    "\n",
    "- A no arbitrage condition is essentially stating that equivalent assets should sell for the same price to prevent a risk free profit from simply buying and sellling them(arbitrage).Black-Scholes model assumes there are no oppurtunities to make risk free profits through simple buying and selling strategies\n",
    "\n",
    "- Continuous Time,Continous State Market assumes that tradin happens continously over time and that the prices of the underlying assets can vary continuously.\n",
    "\n",
    "Black-Scholes is derived from these assumptions."
   ]
  },
  {
   "cell_type": "markdown",
   "id": "1f775a0d",
   "metadata": {},
   "source": [
    "### Black-Scholes Equation (PDE)\n",
    "\n",
    "$$\n",
    "\\frac{\\partial V}{\\partial t} + \\frac{1}{2} \\sigma^2 S^2 \\frac{\\partial^2 V}{\\partial S^2} + rS \\frac{\\partial V}{\\partial S} - rV = 0\n",
    "$$\n",
    "\n",
    "$V$ - This is the price of the derivative.It represents the current theoretical value of the option based on other underlying variables\n",
    "\n",
    "$t$ - Time until the option expires\n",
    "\n",
    "$S$ - The current stock price \n",
    "\n",
    "$ \\sigma$ - Representws the volatility of the stock price.A higher $\\sigma$ means the stock is morre volatile.More volatile means the value of the option increases because of the higher risk.\n",
    "\n",
    "$r$ - The risk free interest rate is the theoretical rate of return of an invesment with zero risk\n",
    "\n",
    "\n",
    "#### Intuition\n",
    "\n",
    "$ \\frac{\\partial V}{\\partial t}$ - measures how the price of the option is expected to change as time moves closer to the options expiration.Also called the time decay of an option\n",
    "\n",
    "$\\frac{1}{2} \\sigma^2 S^2 \\frac{\\partial^2 V}{\\partial S^2}$ - Represents how sensitive an option is to changes in the price of an underlying asset.It captured the effects of volatility by looking at the curvature of the option value with respect to the stock price changes\n",
    "\n",
    "$rS \\frac{\\partial V}{\\partial S}$- Represents the cost of holding the underlying asset, essentially rhe expected return on the stock multiplied by the options sensitivity to stock price changes\n",
    "\n",
    "$-rV$ - Reprresents the cost of financing the position.it shows the decrease in option value to to the passage of time.It is the money you would theorretically learn iof you invested the money at the risk-free rate instead of holding the option"
   ]
  },
  {
   "cell_type": "markdown",
   "id": "574efaa0",
   "metadata": {},
   "source": [
    "### Black-Scholes Formula\n",
    "This is the specific solution to the Black-Scholes PDE that applies to European call and put options.This formula provides the closed-form expression which can be used to directly calculate the fair price of these options based on the inputs without needing to solve the DE.\n",
    "\n",
    "The formulas for a European call option is : \n",
    "$$\n",
    "C = S_0 N(d_1) - X e^{-rT} N(d_2)\n",
    "$$\n",
    " \n",
    "The formula for a European put option is given by:\n",
    "$$\n",
    "P = X e^{-rT} N(-d_2) - S_0 N(-d_1)\n",
    "$$\n",
    "\n",
    "$C,P$ - the call and put option prices repectively\n",
    "\n",
    "$S_0$ - the current stock price\n",
    "\n",
    "$X$ - the strike price\n",
    "\n",
    "$T$ - time till expiration\n",
    "\n",
    "$N()$ - is the cumulative distribution function for a standard normal distribuition\n",
    "\n",
    "$d_1$,$d_2$ - the intermediate calculations based on other variables\n",
    "\n",
    "The formulas for d_1 and d_2 in the Black-Scholes model are given by:\n",
    "\n",
    "$$ d_1 = \\frac{\\log(\\frac{S_0}{X}) + (r + \\frac{\\sigma^2}{2})T}{\\sigma \\sqrt{T}} $$\n",
    "\n",
    "$$ d_2 = d_1 - \\sigma \\sqrt{T} $$\n",
    "\n",
    "where:\n",
    "\n",
    "$\\sigma$ - volatility of the stocks returns\n",
    "\n"
   ]
  },
  {
   "cell_type": "markdown",
   "id": "1b9ed4a9",
   "metadata": {},
   "source": [
    "#### Intuition\n",
    "$S_0 N(d_1)$ - represents the expected benefit from purchasing the stock outright if the stock price exceeds the strike price at expiration. The N(d1) factor is like an expected value it weights the curent stock price by the likelihood the option will be in the money ie stock price is above the strike price at expiration\n",
    "\n",
    "$X e^{-rT}$ - This term represents the present value of the strike price adjusted by the probability that the option will be exercised. The exponential term is about discounting, we need it to calculate the strike price' present value, how much it would be worth in the present day.r is the risk free interest rate and T isa the time to expirration.The exponent applies exponsntial decay to see how the money descreased in value over time ie discounting.\n",
    "\n",
    "$ N(d_2)$ This cumalitive normal distribution provides a probability value.It gives us the probability that the option will be in the money.\n",
    "\n",
    "#### What is the difference between N(d1) and N(d2)\n",
    "\n",
    "$N(d1)$ - The probabilty the stock price $S_0$ will be above the strike price at the expiration date\n",
    "\n",
    "$N(d2)$ - reprresents the probabily that the option will actually be exercised.Ie it will be profitable to exercise the option\n",
    "\n",
    "additional note - the values of d1 and d2 are normalised so they are compatible with the standard normal distribution\n"
   ]
  },
  {
   "cell_type": "markdown",
   "id": "e3caebb0",
   "metadata": {},
   "source": [
    "### Defining Black-Scholes  Formula Function"
   ]
  },
  {
   "cell_type": "code",
   "execution_count": 4,
   "id": "7f73a07b",
   "metadata": {},
   "outputs": [],
   "source": [
    "import numpy as np\n",
    "from scipy.stats import norm"
   ]
  },
  {
   "cell_type": "code",
   "execution_count": 11,
   "id": "808a7746",
   "metadata": {},
   "outputs": [],
   "source": [
    "def black_scholes_call(S,X,T,r,sigma):\n",
    "    '''This function calculates the call price using the black scholes formula and known parameters'''\n",
    "    #calculate d1,d2\n",
    "    d1 = ( np.log(S/X) + (r + (sigma**2 / 2))*T ) / ( sigma * np.sqrt(T))\n",
    "    d2 = d1 - sigma*np.sqrt(T)\n",
    "    \n",
    "    call_price = S * norm.cdf(d1) - X * np.exp(-1*r*T) * norm.cdf(d2)\n",
    "    \n",
    "    return call_price\n",
    "\n",
    "\n",
    "def black_scholes_put(S,X,T,r,sigma):\n",
    "    '''This function calculates the put price using the black scholes formula and known parameters'''\n",
    "    #calculate d1,d2\n",
    "    d1 = ( np.log(S/X) + (r + (sigma**2 / 2))*T ) / ( sigma * np.sqrt(T))\n",
    "    d2 = d1 - sigma*np.sqrt(T)\n",
    "    \n",
    "    put_price = X * np.exp(-1*r*T) * norm.cdf(-1*d2) - S * norm.cdf(-1*d1)\n",
    "    \n",
    "    return put_price\n"
   ]
  },
  {
   "cell_type": "markdown",
   "id": "63ea466b",
   "metadata": {},
   "source": [
    "#### Simple Calculation"
   ]
  },
  {
   "cell_type": "code",
   "execution_count": 18,
   "id": "6c747c05",
   "metadata": {},
   "outputs": [
    {
     "name": "stdout",
     "output_type": "stream",
     "text": [
      "Call Option Price: 10.45\n",
      "Put Option Price: 5.57\n"
     ]
    }
   ],
   "source": [
    "# Example parameters\n",
    "S = 100       # current stock price\n",
    "X = 100       # strike price\n",
    "T = 1         # time to expiration (1 year)\n",
    "r = 0.05      # risk-free rate (5% per year)\n",
    "sigma = 0.2   # volatility (20%)\n",
    "\n",
    "# Calculate call and put prices\n",
    "call_price = black_scholes_call(S, X, T, r, sigma)\n",
    "put_price = black_scholes_put(S, X, T, r, sigma)\n",
    "\n",
    "print(f\"Call Option Price: {call_price:.2f}\")\n",
    "print(f\"Put Option Price: {put_price:.2f}\")"
   ]
  },
  {
   "cell_type": "markdown",
   "id": "da558b65",
   "metadata": {},
   "source": [
    "## Estimating Call and Put prices using a Monte-Carlo Simulation"
   ]
  },
  {
   "cell_type": "markdown",
   "id": "150dadc3",
   "metadata": {},
   "source": [
    "### Random Walk Hypothesis \n",
    "- The random walk hypothesis sugghests that stock prices evolve randomly and unpredicitibly over time.This is modelled using Geometric Brownian Motion (GBM) in the Black-Scholes framework.\n",
    "\n",
    "### Geometric Brownian Motion\n",
    "- GBM is used to model stock price dynamics because it captures the continous and stochastic nature of market movements.\n",
    "- It is modelled by the formula below:\n",
    "$$dS_t = \\mu S_t \\, dt + \\sigma S_t \\, dW_t$$\n",
    "\n",
    "$dS_t$- represents the stock price at t time, this is our target value to simulate\n",
    "\n",
    "$\\mu$ - This is the drift of the stock price, it is the average expected return of the stok per unit of time.Essentially its the direction the stock price is expected to go on average\n",
    "\n",
    "$\\sigma$ - The volatility of the stock measures how much the stock price is expected to fluctuate around its mean or drift. A higher voolatility means the stock price can change drastically in a short period and vice versa.\n",
    "\n",
    "$dW_t$ - The increment of Brownian motion which represents the random componant of stock price movements.A Browniant motion is a continous time stochastic process with independent normally distributed increments.\n",
    "\n",
    "#### Intuition:\n",
    "- The formula captures the predicitable trend using $\\mu S_t \\, dt  $ and the unpredictable spikes using $\\sigma S_t \\, dW_t$\n",
    "\n",
    "### Log-Normal Distribution\n",
    "- Stock prices modelled by GBM are said to be log-normally distributed ie , the stock price itself doesnt follow a normal distribution but the logarithm of the stock price does.This property comes from the exponential function in the GBM solution below\n",
    "\n",
    "$$\n",
    "S_T = S_0 \\exp \\left( \\left( \\mu - \\frac{\\sigma^2}{2} \\right) T + \\sigma T Z \\right)\n",
    "$$\n",
    "\n",
    "where:\n",
    "\n",
    "$S_0$ - Initial Stock Price\n",
    "\n",
    "$Z$ - A random draw from a standard normal distribution which introduces the random variation in the simulation\n",
    "\n",
    "$ \\left( \\mu - \\frac{\\sigma^2}{2} \\right) T $ - Adjusts the ddrift to account for the volatility drag.A correction factor to pull mean of log normal distribution downwards\n",
    "\n",
    "### Option Payoff\n",
    "call option - Gives the holder the right to buy the asset at a strike price X.The payoff is the greater of zero or the difference between the stock price at expiration $S_t$ and the strike price \n",
    "\n",
    "put option - gives the holder the right to sell the asset at X.The payoff is zero or the differece between the strike price and ther stock price at expiration.\n",
    "\n",
    "note: remember a call you want stock to go up, put you want stock to go down\n",
    "\n",
    "### Expected Payoff and Discounting\n",
    "- Under risk neutral valuation the expected return of a stock $\\mu$ is replaced by the risk free rate r nbecause it is assumed that all investors are risk-neutral ie they dont need extra compensation for risk so like before the discounted expected payoff is :\n",
    "\n",
    "$$\\text{Present Value} = e^{-rT} \\times \\text{Expected Payoff at } T$$\n",
    "\n",
    "\n",
    "- we take the constant value r rather than the variable $\\mu$"
   ]
  },
  {
   "cell_type": "markdown",
   "id": "a56d2e92",
   "metadata": {},
   "source": [
    "### Monte Carlo Simulation"
   ]
  },
  {
   "cell_type": "code",
   "execution_count": 84,
   "id": "f66e06b2",
   "metadata": {},
   "outputs": [
    {
     "data": {
      "text/plain": [
       "50"
      ]
     },
     "execution_count": 84,
     "metadata": {},
     "output_type": "execute_result"
    }
   ],
   "source": [
    "#### Define basic Parameters\n",
    "\n",
    "S = 100 #Initial Stock Price\n",
    "X = 100 #Strike Price\n",
    "r = 0.03 #Risk Free rate\n",
    "sigma = 0.1 # volatility\n",
    "T = 1 # Time till expiration\n",
    "\n",
    "# Simulate Stock prices at Expiration\n",
    "rand = np.random.standard_normal(50)\n",
    "T = np.linspace(0,1,50)\n",
    "len(T)"
   ]
  },
  {
   "cell_type": "code",
   "execution_count": 85,
   "id": "3e04d641",
   "metadata": {},
   "outputs": [],
   "source": [
    "def geo_brownian_motion(S,X,r,sigma,T,Z):\n",
    "    \n",
    "    S_t = S * np.exp((r - (sigma**2)/2)*T + sigma*np.sqrt(T)*Z)\n",
    "    return S_t\n",
    "\n",
    "def calc_payoff\n",
    "    \n"
   ]
  },
  {
   "cell_type": "code",
   "execution_count": 86,
   "id": "1caed93c",
   "metadata": {},
   "outputs": [],
   "source": [
    "y = geo_brownian_motion(S,X,r,sigma,T,rand)"
   ]
  },
  {
   "cell_type": "code",
   "execution_count": 87,
   "id": "31c33436",
   "metadata": {},
   "outputs": [],
   "source": [
    "import matplotlib.pyplot as plt"
   ]
  },
  {
   "cell_type": "code",
   "execution_count": 88,
   "id": "58371b3b",
   "metadata": {},
   "outputs": [
    {
     "data": {
      "text/plain": [
       "[<matplotlib.lines.Line2D at 0x1edaa9ed040>]"
      ]
     },
     "execution_count": 88,
     "metadata": {},
     "output_type": "execute_result"
    },
    {
     "data": {
      "image/png": "[encoded data removed]",
      "text/plain": [
       "<Figure size 640x480 with 1 Axes>"
      ]
     },
     "metadata": {},
     "output_type": "display_data"
    }
   ],
   "source": [
    "plt.plot(T,y)"
   ]
  },
  {
   "cell_type": "code",
   "execution_count": null,
   "id": "8c2e44dd",
   "metadata": {},
   "outputs": [],
   "source": []
  },
  {
   "cell_type": "code",
   "execution_count": null,
   "id": "2b50e8fa",
   "metadata": {},
   "outputs": [],
   "source": []
  },
  {
   "cell_type": "code",
   "execution_count": null,
   "id": "fc32f902",
   "metadata": {},
   "outputs": [],
   "source": []
  }
 ],
 "metadata": {
  "kernelspec": {
   "display_name": "Python 3 (ipykernel)",
   "language": "python",
   "name": "python3"
  },
  "language_info": {
   "codemirror_mode": {
    "name": "ipython",
    "version": 3
   },
   "file_extension": ".py",
   "mimetype": "text/x-python",
   "name": "python",
   "nbconvert_exporter": "python",
   "pygments_lexer": "ipython3",
   "version": "3.9.13"
  }
 },
 "nbformat": 4,
 "nbformat_minor": 5
}
